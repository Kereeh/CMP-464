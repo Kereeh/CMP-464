{
 "cells": [
  {
   "cell_type": "markdown",
   "metadata": {},
   "source": [
    "1. Find the total DSH payments each state receives in total in 2011 (aggregated from all hospitals for the state).\n",
    "\n",
    "2. Find the numbers for year 2015.\n",
    "\n",
    "3. Find how much DSH payments has increased in each state ((2) - (1)).\n",
    "4. Label each state as \"expansion states\" or \"non-expansion states\", according to whether they decided to expand Medicaid following the Affordable Care Act. (Have I send you the list of expansion states?)\n",
    "5. Use a logistic regression model to describe the relation between DSH increase and expansion/non-expansion. Is there a strong correlation? If so, it may support the argument that Medicaid expansion helped reduce the DSH payments (which makes sense since DSH payments covers uncompensated care caused by uninsured individuals, and under Medicaid expansion there should be fewer uninsured people in these states)\n",
    "\n",
    "*repeat process for 2011 vs 2013 and compare results"
   ]
  },
  {
   "cell_type": "code",
   "execution_count": 1,
   "metadata": {},
   "outputs": [],
   "source": [
    "#importing necessary libraries for data cleaning + analysis\n",
    "\n",
    "import numpy as np\n",
    "import pandas as pd\n",
    "import matplotlib.pyplot as plt\n",
    "\n",
    "%matplotlib inline"
   ]
  },
  {
   "cell_type": "code",
   "execution_count": 2,
   "metadata": {},
   "outputs": [],
   "source": [
    "#reading necessary csvs of dsh from years 2011, 2013, and 2015\n",
    "\n",
    "dsh_2011 = pd.read_csv('dsh_2011.csv')\n",
    "dsh_2013 = pd.read_csv('dsh_2013.csv')\n",
    "dsh_2015 = pd.read_csv('dsh_2015.csv')"
   ]
  },
  {
   "cell_type": "code",
   "execution_count": 3,
   "metadata": {},
   "outputs": [],
   "source": [
    "#grouped by state\n",
    "#summed columns dsh1, dsh2, and dsh3\n",
    "\n",
    "dsh_2011 = dsh_2011.groupby('state')['dsh1','dsh2','dsh3'].sum().reset_index()\n",
    "dsh_2013 = dsh_2013.groupby('state')['dsh1','dsh2','dsh3'].sum().reset_index()\n",
    "dsh_2015 = dsh_2015.groupby('state')['dsh1','dsh2','dsh3'].sum().reset_index()\n",
    "\n",
    "#this option just formats the displays of floats cleaner\n",
    "pd.set_option('display.float_format', lambda x: '%.2f' % x)"
   ]
  },
  {
   "cell_type": "code",
   "execution_count": 4,
   "metadata": {},
   "outputs": [],
   "source": [
    "#created new column which takes the sum of dsh1, dsh2, dsh3\n",
    "\n",
    "dsh_2011['dsh2011'] = dsh_2011['dsh1'] + dsh_2011['dsh2'] + dsh_2011['dsh3']\n",
    "dsh_2013['dsh2013'] = dsh_2013['dsh1'] + dsh_2013['dsh2'] + dsh_2013['dsh3']\n",
    "dsh_2015['dsh2015'] = dsh_2015['dsh1'] + dsh_2015['dsh2'] + dsh_2015['dsh3']"
   ]
  },
  {
   "cell_type": "code",
   "execution_count": 5,
   "metadata": {},
   "outputs": [],
   "source": [
    "#drops other columns, and only keeps the sum column \n",
    "\n",
    "dsh_2011 = dsh_2011.drop(['dsh1','dsh2','dsh3'], axis=1)\n",
    "dsh_2013 = dsh_2013.drop(['dsh1','dsh2','dsh3'], axis=1)\n",
    "dsh_2015 = dsh_2015.drop(['dsh1','dsh2','dsh3'], axis=1)"
   ]
  },
  {
   "cell_type": "code",
   "execution_count": 6,
   "metadata": {},
   "outputs": [],
   "source": [
    "#combine 2011 and 2013 data\n",
    "\n",
    "dsh_all = pd.merge(dsh_2011, dsh_2013, on = ['state'])"
   ]
  },
  {
   "cell_type": "code",
   "execution_count": 7,
   "metadata": {},
   "outputs": [],
   "source": [
    "#combine all data with 2015 data\n",
    "\n",
    "dsh_all  = pd.merge(dsh_all, dsh_2015, on = ['state'])"
   ]
  },
  {
   "cell_type": "markdown",
   "metadata": {},
   "source": [
    "Find how much DSH payments has increased in each state ((2) - (1))."
   ]
  },
  {
   "cell_type": "code",
   "execution_count": 8,
   "metadata": {},
   "outputs": [],
   "source": [
    "#take the percent change of 2015 and 2011\n",
    "\n",
    "dsh_all['2015-2011'] = 1.0*(dsh_all['dsh2015'] - dsh_all['dsh2011'])/dsh_all['dsh2011']"
   ]
  },
  {
   "cell_type": "code",
   "execution_count": 9,
   "metadata": {},
   "outputs": [],
   "source": [
    "#take the percent change of 2013 and 2011\n",
    "\n",
    "dsh_all['2013-2011'] = 1.0*(dsh_all['dsh2013'] - dsh_all['dsh2011'])/dsh_all['dsh2011']"
   ]
  },
  {
   "cell_type": "code",
   "execution_count": 10,
   "metadata": {},
   "outputs": [],
   "source": [
    "#remove white space in state\n",
    "\n",
    "dsh_all['state'] = dsh_all['state'].str.strip()"
   ]
  },
  {
   "cell_type": "markdown",
   "metadata": {},
   "source": [
    "Label each state as \"expansion states\" or \"non-expansion states\", according to whether they decided to expand Medicaid following the Affordable Care Act. (Have I send you the list of expansion states?)"
   ]
  },
  {
   "cell_type": "code",
   "execution_count": 11,
   "metadata": {},
   "outputs": [],
   "source": [
    "#read in expansion states table to append column to previous df\n",
    "expansion_states = pd.read_csv('expansion_states.csv')"
   ]
  },
  {
   "cell_type": "code",
   "execution_count": 12,
   "metadata": {},
   "outputs": [],
   "source": [
    "#merging expansion status to previous data frame\n",
    "dsh_states = pd.merge(dsh_all, expansion_states, on = ['state'], how = 'right')"
   ]
  },
  {
   "cell_type": "code",
   "execution_count": 19,
   "metadata": {},
   "outputs": [
    {
     "data": {
      "text/html": [
       "<div>\n",
       "<style scoped>\n",
       "    .dataframe tbody tr th:only-of-type {\n",
       "        vertical-align: middle;\n",
       "    }\n",
       "\n",
       "    .dataframe tbody tr th {\n",
       "        vertical-align: top;\n",
       "    }\n",
       "\n",
       "    .dataframe thead th {\n",
       "        text-align: right;\n",
       "    }\n",
       "</style>\n",
       "<table border=\"1\" class=\"dataframe\">\n",
       "  <thead>\n",
       "    <tr style=\"text-align: right;\">\n",
       "      <th></th>\n",
       "      <th>state</th>\n",
       "      <th>dsh2011</th>\n",
       "      <th>dsh2013</th>\n",
       "      <th>dsh2015</th>\n",
       "      <th>2015-2011</th>\n",
       "      <th>2013-2011</th>\n",
       "      <th>expansion_status</th>\n",
       "    </tr>\n",
       "  </thead>\n",
       "  <tbody>\n",
       "    <tr>\n",
       "      <th>35</th>\n",
       "      <td>WY</td>\n",
       "      <td>4275972.00</td>\n",
       "      <td>2142178.00</td>\n",
       "      <td>1292782.00</td>\n",
       "      <td>-0.70</td>\n",
       "      <td>-0.50</td>\n",
       "      <td>0</td>\n",
       "    </tr>\n",
       "    <tr>\n",
       "      <th>18</th>\n",
       "      <td>NE</td>\n",
       "      <td>47027612.00</td>\n",
       "      <td>20228089.00</td>\n",
       "      <td>11283946.00</td>\n",
       "      <td>-0.76</td>\n",
       "      <td>-0.57</td>\n",
       "      <td>0</td>\n",
       "    </tr>\n",
       "    <tr>\n",
       "      <th>26</th>\n",
       "      <td>SC</td>\n",
       "      <td>174937975.00</td>\n",
       "      <td>149479737.00</td>\n",
       "      <td>45736375.00</td>\n",
       "      <td>-0.74</td>\n",
       "      <td>-0.15</td>\n",
       "      <td>0</td>\n",
       "    </tr>\n",
       "    <tr>\n",
       "      <th>16</th>\n",
       "      <td>NC</td>\n",
       "      <td>434257303.00</td>\n",
       "      <td>360600162.00</td>\n",
       "      <td>100351730.00</td>\n",
       "      <td>-0.77</td>\n",
       "      <td>-0.17</td>\n",
       "      <td>0</td>\n",
       "    </tr>\n",
       "    <tr>\n",
       "      <th>15</th>\n",
       "      <td>MO</td>\n",
       "      <td>211239880.00</td>\n",
       "      <td>141603880.00</td>\n",
       "      <td>52859532.00</td>\n",
       "      <td>-0.75</td>\n",
       "      <td>-0.33</td>\n",
       "      <td>0</td>\n",
       "    </tr>\n",
       "    <tr>\n",
       "      <th>14</th>\n",
       "      <td>MI</td>\n",
       "      <td>382479923.00</td>\n",
       "      <td>252737498.00</td>\n",
       "      <td>118170592.00</td>\n",
       "      <td>-0.69</td>\n",
       "      <td>-0.34</td>\n",
       "      <td>0</td>\n",
       "    </tr>\n",
       "    <tr>\n",
       "      <th>13</th>\n",
       "      <td>ME</td>\n",
       "      <td>44657774.00</td>\n",
       "      <td>31963081.00</td>\n",
       "      <td>11565342.00</td>\n",
       "      <td>-0.74</td>\n",
       "      <td>-0.28</td>\n",
       "      <td>0</td>\n",
       "    </tr>\n",
       "    <tr>\n",
       "      <th>27</th>\n",
       "      <td>SD</td>\n",
       "      <td>29073962.00</td>\n",
       "      <td>14211006.00</td>\n",
       "      <td>9534144.00</td>\n",
       "      <td>-0.67</td>\n",
       "      <td>-0.51</td>\n",
       "      <td>0</td>\n",
       "    </tr>\n",
       "    <tr>\n",
       "      <th>28</th>\n",
       "      <td>TN</td>\n",
       "      <td>253837005.00</td>\n",
       "      <td>157481954.00</td>\n",
       "      <td>67077317.00</td>\n",
       "      <td>-0.74</td>\n",
       "      <td>-0.38</td>\n",
       "      <td>0</td>\n",
       "    </tr>\n",
       "    <tr>\n",
       "      <th>29</th>\n",
       "      <td>TX</td>\n",
       "      <td>939560750.00</td>\n",
       "      <td>586592156.00</td>\n",
       "      <td>208236725.00</td>\n",
       "      <td>-0.78</td>\n",
       "      <td>-0.38</td>\n",
       "      <td>0</td>\n",
       "    </tr>\n",
       "    <tr>\n",
       "      <th>30</th>\n",
       "      <td>UT</td>\n",
       "      <td>34283651.00</td>\n",
       "      <td>24027426.00</td>\n",
       "      <td>9994813.00</td>\n",
       "      <td>-0.71</td>\n",
       "      <td>-0.30</td>\n",
       "      <td>0</td>\n",
       "    </tr>\n",
       "    <tr>\n",
       "      <th>7</th>\n",
       "      <td>ID</td>\n",
       "      <td>30481928.00</td>\n",
       "      <td>27935369.00</td>\n",
       "      <td>9160497.00</td>\n",
       "      <td>-0.70</td>\n",
       "      <td>-0.08</td>\n",
       "      <td>0</td>\n",
       "    </tr>\n",
       "    <tr>\n",
       "      <th>31</th>\n",
       "      <td>VA</td>\n",
       "      <td>198221402.00</td>\n",
       "      <td>138203796.00</td>\n",
       "      <td>56509578.00</td>\n",
       "      <td>-0.71</td>\n",
       "      <td>-0.30</td>\n",
       "      <td>0</td>\n",
       "    </tr>\n",
       "    <tr>\n",
       "      <th>5</th>\n",
       "      <td>GA</td>\n",
       "      <td>334648001.00</td>\n",
       "      <td>220655350.00</td>\n",
       "      <td>78336929.00</td>\n",
       "      <td>-0.77</td>\n",
       "      <td>-0.34</td>\n",
       "      <td>0</td>\n",
       "    </tr>\n",
       "    <tr>\n",
       "      <th>4</th>\n",
       "      <td>FL</td>\n",
       "      <td>785288570.00</td>\n",
       "      <td>618172065.00</td>\n",
       "      <td>194898300.00</td>\n",
       "      <td>-0.75</td>\n",
       "      <td>-0.21</td>\n",
       "      <td>0</td>\n",
       "    </tr>\n",
       "    <tr>\n",
       "      <th>33</th>\n",
       "      <td>WI</td>\n",
       "      <td>130526164.00</td>\n",
       "      <td>89807921.00</td>\n",
       "      <td>38098094.00</td>\n",
       "      <td>-0.71</td>\n",
       "      <td>-0.31</td>\n",
       "      <td>0</td>\n",
       "    </tr>\n",
       "    <tr>\n",
       "      <th>1</th>\n",
       "      <td>AL</td>\n",
       "      <td>186989459.00</td>\n",
       "      <td>134820950.00</td>\n",
       "      <td>44002542.00</td>\n",
       "      <td>-0.76</td>\n",
       "      <td>-0.28</td>\n",
       "      <td>0</td>\n",
       "    </tr>\n",
       "    <tr>\n",
       "      <th>9</th>\n",
       "      <td>KS</td>\n",
       "      <td>60133844.00</td>\n",
       "      <td>47245112.00</td>\n",
       "      <td>16420208.00</td>\n",
       "      <td>-0.73</td>\n",
       "      <td>-0.21</td>\n",
       "      <td>0</td>\n",
       "    </tr>\n",
       "    <tr>\n",
       "      <th>23</th>\n",
       "      <td>OK</td>\n",
       "      <td>159555523.00</td>\n",
       "      <td>84230015.00</td>\n",
       "      <td>34887903.00</td>\n",
       "      <td>-0.78</td>\n",
       "      <td>-0.47</td>\n",
       "      <td>0</td>\n",
       "    </tr>\n",
       "    <tr>\n",
       "      <th>24</th>\n",
       "      <td>OR</td>\n",
       "      <td>78581986.00</td>\n",
       "      <td>63758116.00</td>\n",
       "      <td>35750920.00</td>\n",
       "      <td>-0.55</td>\n",
       "      <td>-0.19</td>\n",
       "      <td>1</td>\n",
       "    </tr>\n",
       "    <tr>\n",
       "      <th>32</th>\n",
       "      <td>VT</td>\n",
       "      <td>18565362.00</td>\n",
       "      <td>16992024.00</td>\n",
       "      <td>4971213.00</td>\n",
       "      <td>-0.73</td>\n",
       "      <td>-0.08</td>\n",
       "      <td>1</td>\n",
       "    </tr>\n",
       "    <tr>\n",
       "      <th>25</th>\n",
       "      <td>RI</td>\n",
       "      <td>24543507.00</td>\n",
       "      <td>28262021.00</td>\n",
       "      <td>10013884.00</td>\n",
       "      <td>-0.59</td>\n",
       "      <td>0.15</td>\n",
       "      <td>1</td>\n",
       "    </tr>\n",
       "    <tr>\n",
       "      <th>0</th>\n",
       "      <td>AK</td>\n",
       "      <td>17737577.00</td>\n",
       "      <td>23197983.00</td>\n",
       "      <td>8362462.00</td>\n",
       "      <td>-0.53</td>\n",
       "      <td>0.31</td>\n",
       "      <td>1</td>\n",
       "    </tr>\n",
       "    <tr>\n",
       "      <th>21</th>\n",
       "      <td>NY</td>\n",
       "      <td>1126962975.00</td>\n",
       "      <td>934228335.00</td>\n",
       "      <td>291333730.00</td>\n",
       "      <td>-0.74</td>\n",
       "      <td>-0.17</td>\n",
       "      <td>1</td>\n",
       "    </tr>\n",
       "    <tr>\n",
       "      <th>20</th>\n",
       "      <td>NV</td>\n",
       "      <td>67325668.00</td>\n",
       "      <td>50334118.00</td>\n",
       "      <td>34240793.00</td>\n",
       "      <td>-0.49</td>\n",
       "      <td>-0.25</td>\n",
       "      <td>1</td>\n",
       "    </tr>\n",
       "    <tr>\n",
       "      <th>19</th>\n",
       "      <td>NM</td>\n",
       "      <td>51710866.00</td>\n",
       "      <td>40702168.00</td>\n",
       "      <td>21602565.00</td>\n",
       "      <td>-0.58</td>\n",
       "      <td>-0.21</td>\n",
       "      <td>1</td>\n",
       "    </tr>\n",
       "    <tr>\n",
       "      <th>34</th>\n",
       "      <td>WV</td>\n",
       "      <td>88629755.00</td>\n",
       "      <td>74176110.00</td>\n",
       "      <td>27049887.00</td>\n",
       "      <td>-0.69</td>\n",
       "      <td>-0.16</td>\n",
       "      <td>1</td>\n",
       "    </tr>\n",
       "    <tr>\n",
       "      <th>12</th>\n",
       "      <td>MD</td>\n",
       "      <td>249258891.00</td>\n",
       "      <td>153118007.00</td>\n",
       "      <td>105265178.00</td>\n",
       "      <td>-0.58</td>\n",
       "      <td>-0.39</td>\n",
       "      <td>1</td>\n",
       "    </tr>\n",
       "    <tr>\n",
       "      <th>11</th>\n",
       "      <td>MA</td>\n",
       "      <td>276280769.00</td>\n",
       "      <td>326413048.00</td>\n",
       "      <td>98029154.00</td>\n",
       "      <td>-0.65</td>\n",
       "      <td>0.18</td>\n",
       "      <td>1</td>\n",
       "    </tr>\n",
       "    <tr>\n",
       "      <th>10</th>\n",
       "      <td>KY</td>\n",
       "      <td>246137139.00</td>\n",
       "      <td>150990837.00</td>\n",
       "      <td>74556049.00</td>\n",
       "      <td>-0.70</td>\n",
       "      <td>-0.39</td>\n",
       "      <td>1</td>\n",
       "    </tr>\n",
       "    <tr>\n",
       "      <th>8</th>\n",
       "      <td>IN</td>\n",
       "      <td>203322799.00</td>\n",
       "      <td>155833731.00</td>\n",
       "      <td>67793103.00</td>\n",
       "      <td>-0.67</td>\n",
       "      <td>-0.23</td>\n",
       "      <td>1</td>\n",
       "    </tr>\n",
       "    <tr>\n",
       "      <th>6</th>\n",
       "      <td>HI</td>\n",
       "      <td>24760182.00</td>\n",
       "      <td>13718233.00</td>\n",
       "      <td>7953117.00</td>\n",
       "      <td>-0.68</td>\n",
       "      <td>-0.45</td>\n",
       "      <td>1</td>\n",
       "    </tr>\n",
       "    <tr>\n",
       "      <th>3</th>\n",
       "      <td>DE</td>\n",
       "      <td>35418499.00</td>\n",
       "      <td>18458850.00</td>\n",
       "      <td>12426150.00</td>\n",
       "      <td>-0.65</td>\n",
       "      <td>-0.48</td>\n",
       "      <td>1</td>\n",
       "    </tr>\n",
       "    <tr>\n",
       "      <th>2</th>\n",
       "      <td>AZ</td>\n",
       "      <td>176673419.00</td>\n",
       "      <td>105683970.00</td>\n",
       "      <td>56677289.00</td>\n",
       "      <td>-0.68</td>\n",
       "      <td>-0.40</td>\n",
       "      <td>1</td>\n",
       "    </tr>\n",
       "    <tr>\n",
       "      <th>22</th>\n",
       "      <td>OH</td>\n",
       "      <td>302149717.00</td>\n",
       "      <td>228063137.00</td>\n",
       "      <td>97291421.00</td>\n",
       "      <td>-0.68</td>\n",
       "      <td>-0.25</td>\n",
       "      <td>1</td>\n",
       "    </tr>\n",
       "    <tr>\n",
       "      <th>17</th>\n",
       "      <td>ND</td>\n",
       "      <td>18340849.00</td>\n",
       "      <td>11618584.00</td>\n",
       "      <td>7924904.00</td>\n",
       "      <td>-0.57</td>\n",
       "      <td>-0.37</td>\n",
       "      <td>1</td>\n",
       "    </tr>\n",
       "  </tbody>\n",
       "</table>\n",
       "</div>"
      ],
      "text/plain": [
       "   state       dsh2011      dsh2013      dsh2015  2015-2011  2013-2011  \\\n",
       "35    WY    4275972.00   2142178.00   1292782.00      -0.70      -0.50   \n",
       "18    NE   47027612.00  20228089.00  11283946.00      -0.76      -0.57   \n",
       "26    SC  174937975.00 149479737.00  45736375.00      -0.74      -0.15   \n",
       "16    NC  434257303.00 360600162.00 100351730.00      -0.77      -0.17   \n",
       "15    MO  211239880.00 141603880.00  52859532.00      -0.75      -0.33   \n",
       "14    MI  382479923.00 252737498.00 118170592.00      -0.69      -0.34   \n",
       "13    ME   44657774.00  31963081.00  11565342.00      -0.74      -0.28   \n",
       "27    SD   29073962.00  14211006.00   9534144.00      -0.67      -0.51   \n",
       "28    TN  253837005.00 157481954.00  67077317.00      -0.74      -0.38   \n",
       "29    TX  939560750.00 586592156.00 208236725.00      -0.78      -0.38   \n",
       "30    UT   34283651.00  24027426.00   9994813.00      -0.71      -0.30   \n",
       "7     ID   30481928.00  27935369.00   9160497.00      -0.70      -0.08   \n",
       "31    VA  198221402.00 138203796.00  56509578.00      -0.71      -0.30   \n",
       "5     GA  334648001.00 220655350.00  78336929.00      -0.77      -0.34   \n",
       "4     FL  785288570.00 618172065.00 194898300.00      -0.75      -0.21   \n",
       "33    WI  130526164.00  89807921.00  38098094.00      -0.71      -0.31   \n",
       "1     AL  186989459.00 134820950.00  44002542.00      -0.76      -0.28   \n",
       "9     KS   60133844.00  47245112.00  16420208.00      -0.73      -0.21   \n",
       "23    OK  159555523.00  84230015.00  34887903.00      -0.78      -0.47   \n",
       "24    OR   78581986.00  63758116.00  35750920.00      -0.55      -0.19   \n",
       "32    VT   18565362.00  16992024.00   4971213.00      -0.73      -0.08   \n",
       "25    RI   24543507.00  28262021.00  10013884.00      -0.59       0.15   \n",
       "0     AK   17737577.00  23197983.00   8362462.00      -0.53       0.31   \n",
       "21    NY 1126962975.00 934228335.00 291333730.00      -0.74      -0.17   \n",
       "20    NV   67325668.00  50334118.00  34240793.00      -0.49      -0.25   \n",
       "19    NM   51710866.00  40702168.00  21602565.00      -0.58      -0.21   \n",
       "34    WV   88629755.00  74176110.00  27049887.00      -0.69      -0.16   \n",
       "12    MD  249258891.00 153118007.00 105265178.00      -0.58      -0.39   \n",
       "11    MA  276280769.00 326413048.00  98029154.00      -0.65       0.18   \n",
       "10    KY  246137139.00 150990837.00  74556049.00      -0.70      -0.39   \n",
       "8     IN  203322799.00 155833731.00  67793103.00      -0.67      -0.23   \n",
       "6     HI   24760182.00  13718233.00   7953117.00      -0.68      -0.45   \n",
       "3     DE   35418499.00  18458850.00  12426150.00      -0.65      -0.48   \n",
       "2     AZ  176673419.00 105683970.00  56677289.00      -0.68      -0.40   \n",
       "22    OH  302149717.00 228063137.00  97291421.00      -0.68      -0.25   \n",
       "17    ND   18340849.00  11618584.00   7924904.00      -0.57      -0.37   \n",
       "\n",
       "    expansion_status  \n",
       "35                 0  \n",
       "18                 0  \n",
       "26                 0  \n",
       "16                 0  \n",
       "15                 0  \n",
       "14                 0  \n",
       "13                 0  \n",
       "27                 0  \n",
       "28                 0  \n",
       "29                 0  \n",
       "30                 0  \n",
       "7                  0  \n",
       "31                 0  \n",
       "5                  0  \n",
       "4                  0  \n",
       "33                 0  \n",
       "1                  0  \n",
       "9                  0  \n",
       "23                 0  \n",
       "24                 1  \n",
       "32                 1  \n",
       "25                 1  \n",
       "0                  1  \n",
       "21                 1  \n",
       "20                 1  \n",
       "19                 1  \n",
       "34                 1  \n",
       "12                 1  \n",
       "11                 1  \n",
       "10                 1  \n",
       "8                  1  \n",
       "6                  1  \n",
       "3                  1  \n",
       "2                  1  \n",
       "22                 1  \n",
       "17                 1  "
      ]
     },
     "execution_count": 19,
     "metadata": {},
     "output_type": "execute_result"
    }
   ],
   "source": [
    "dsh_states.sort_values(['expansion_status'])"
   ]
  },
  {
   "cell_type": "markdown",
   "metadata": {},
   "source": [
    "**2015-2011** Use a logistic regression model to describe the relation between DSH increase and expansion/non-expansion. Is there a strong correlation? If so, it may support the argument that Medicaid expansion helped reduce the DSH payments "
   ]
  },
  {
   "cell_type": "code",
   "execution_count": 14,
   "metadata": {},
   "outputs": [
    {
     "data": {
      "text/plain": [
       "<matplotlib.axes._subplots.AxesSubplot at 0x7faf3b608a90>"
      ]
     },
     "execution_count": 14,
     "metadata": {},
     "output_type": "execute_result"
    },
    {
     "data": {
      "image/png": "[encoded data removed]",
      "text/plain": [
       "<Figure size 432x288 with 1 Axes>"
      ]
     },
     "metadata": {
      "needs_background": "light"
     },
     "output_type": "display_data"
    }
   ],
   "source": [
    "#graph difference in states\n",
    "\n",
    "dsh_states['2015-2011'].hist()"
   ]
  },
  {
   "cell_type": "code",
   "execution_count": 53,
   "metadata": {},
   "outputs": [
    {
     "data": {
      "text/plain": [
       "LogisticRegression(C=1.0, class_weight=None, dual=False, fit_intercept=True,\n",
       "          intercept_scaling=1, max_iter=100, multi_class='warn',\n",
       "          n_jobs=None, penalty='l2', random_state=None, solver='lbfgs',\n",
       "          tol=0.0001, verbose=0, warm_start=False)"
      ]
     },
     "execution_count": 53,
     "metadata": {},
     "output_type": "execute_result"
    }
   ],
   "source": [
    "#logistic regression stuff\n",
    "\n",
    "from sklearn.linear_model import LogisticRegression\n",
    "\n",
    "X = dsh_states[[\"2015-2011\"]]\n",
    "y = dsh_states[\"expansion_status\"].astype(np.int)\n",
    "\n",
    "log_reg = LogisticRegression(solver='lbfgs')\n",
    "log_reg.fit(X, y)"
   ]
  },
  {
   "cell_type": "code",
   "execution_count": 58,
   "metadata": {},
   "outputs": [
    {
     "data": {
      "text/plain": [
       "<matplotlib.collections.PathCollection at 0x7faf2e935a20>"
      ]
     },
     "execution_count": 58,
     "metadata": {},
     "output_type": "execute_result"
    },
    {
     "data": {
      "image/png": "[encoded data removed]",
      "text/plain": [
       "<Figure size 432x288 with 1 Axes>"
      ]
     },
     "metadata": {
      "needs_background": "light"
     },
     "output_type": "display_data"
    }
   ],
   "source": [
    "#plot\n",
    "\n",
    "X_new = np.linspace(-0.8, -0.5, 1000).reshape(-1,1)\n",
    "y_proba = log_reg.predict_proba(X_new)\n",
    "\n",
    "plt.plot(X_new, y_proba[:, 1], \"g-\", label = \"Expansion\")\n",
    "plt.plot(X_new, y_proba[:, 0], \"b--\", label = \"Non-Expansion\")\n",
    "plt.scatter(X,y)\n"
   ]
  },
  {
   "cell_type": "code",
   "execution_count": 17,
   "metadata": {},
   "outputs": [
    {
     "data": {
      "text/plain": [
       "array([0, 0, 0, 0, 0, 0, 0, 0, 0, 0, 0, 0, 0, 0, 0, 0, 0, 0, 0, 0, 0, 0,\n",
       "       0, 0, 0, 0, 0, 0, 0, 0, 0, 0, 0, 0, 0, 0])"
      ]
     },
     "execution_count": 17,
     "metadata": {},
     "output_type": "execute_result"
    }
   ],
   "source": [
    "# calculate the training prediction\n",
    "\n",
    "pred = log_reg.predict(dsh_states[['2015-2011']])\n",
    "pred"
   ]
  },
  {
   "cell_type": "markdown",
   "metadata": {},
   "source": [
    "**2013 - 2011**\n",
    "Use a logistic regression model to describe the relation between DSH increase and expansion/non-expansion. Is there a strong correlation? If so, it may support the argument that Medicaid expansion helped reduce the DSH payments "
   ]
  },
  {
   "cell_type": "code",
   "execution_count": 43,
   "metadata": {},
   "outputs": [
    {
     "data": {
      "text/plain": [
       "['filename', 'data', 'DESCR', 'target', 'target_names', 'feature_names']"
      ]
     },
     "execution_count": 43,
     "metadata": {},
     "output_type": "execute_result"
    }
   ],
   "source": [
    "from sklearn import datasets\n",
    "iris = datasets.load_iris()\n",
    "list(iris.keys())"
   ]
  },
  {
   "cell_type": "code",
   "execution_count": 45,
   "metadata": {},
   "outputs": [],
   "source": [
    "X= iris[\"data\"][:, 3:]"
   ]
  },
  {
   "cell_type": "code",
   "execution_count": 46,
   "metadata": {},
   "outputs": [],
   "source": [
    "y = (iris[\"target\"] == 2).astype(np.int)"
   ]
  },
  {
   "cell_type": "code",
   "execution_count": 47,
   "metadata": {},
   "outputs": [],
   "source": [
    "log_reg = LogisticRegression()"
   ]
  },
  {
   "cell_type": "code",
   "execution_count": 48,
   "metadata": {},
   "outputs": [
    {
     "name": "stderr",
     "output_type": "stream",
     "text": [
      "/home/kereeh/.local/lib/python3.5/site-packages/sklearn/linear_model/logistic.py:433: FutureWarning: Default solver will be changed to 'lbfgs' in 0.22. Specify a solver to silence this warning.\n",
      "  FutureWarning)\n"
     ]
    },
    {
     "data": {
      "text/plain": [
       "LogisticRegression(C=1.0, class_weight=None, dual=False, fit_intercept=True,\n",
       "          intercept_scaling=1, max_iter=100, multi_class='warn',\n",
       "          n_jobs=None, penalty='l2', random_state=None, solver='warn',\n",
       "          tol=0.0001, verbose=0, warm_start=False)"
      ]
     },
     "execution_count": 48,
     "metadata": {},
     "output_type": "execute_result"
    }
   ],
   "source": [
    "log_reg.fit(X,y)"
   ]
  },
  {
   "cell_type": "code",
   "execution_count": 50,
   "metadata": {},
   "outputs": [],
   "source": [
    "X_new = np.linspace(0, 3, 1000).reshape(-1, 1)\n",
    "y_proba = log_reg.predict_proba(X_new)"
   ]
  },
  {
   "cell_type": "code",
   "execution_count": 52,
   "metadata": {},
   "outputs": [
    {
     "data": {
      "text/plain": [
       "<matplotlib.collections.PathCollection at 0x7faf2ea81978>"
      ]
     },
     "execution_count": 52,
     "metadata": {},
     "output_type": "execute_result"
    },
    {
     "data": {
      "image/png": "[encoded data removed]",
      "text/plain": [
       "<Figure size 432x288 with 1 Axes>"
      ]
     },
     "metadata": {
      "needs_background": "light"
     },
     "output_type": "display_data"
    }
   ],
   "source": [
    "plt.plot(X_new, y_proba[:, 1], \"g-\")\n",
    "plt.plot(X_new, y_proba[:, 0], \"b--\")\n",
    "plt.scatter(X, y)"
   ]
  },
  {
   "cell_type": "code",
   "execution_count": null,
   "metadata": {},
   "outputs": [],
   "source": []
  }
 ],
 "metadata": {
  "kernelspec": {
   "display_name": "Python 3",
   "language": "python",
   "name": "python3"
  },
  "language_info": {
   "codemirror_mode": {
    "name": "ipython",
    "version": 3
   },
   "file_extension": ".py",
   "mimetype": "text/x-python",
   "name": "python",
   "nbconvert_exporter": "python",
   "pygments_lexer": "ipython3",
   "version": "3.5.2"
  }
 },
 "nbformat": 4,
 "nbformat_minor": 2
}
