{
 "cells": [
  {
   "cell_type": "markdown",
   "metadata": {},
   "source": [
    "__Titanic Kaggle Challenge__\n",
    "\n",
    "Goal: for each passengerId in the test set, predict a 0 or 1 value for the survived variable\n",
    "\n",
    "Metric: accuracy\n",
    "\n",
    "Traning Set\n",
    "- used to train machine learning model\n",
    "- outcome is provided ('ground truth')\n",
    "- model is based on passenger 'features'\n",
    "- you can feature engineer to create new features\n",
    "\n",
    "Test Set \n",
    "- how well your model performs on unseen data\n",
    "- there is no ground truth, and must predict use"
   ]
  },
  {
   "cell_type": "markdown",
   "metadata": {},
   "source": [
    "__Stage 1__\n",
    "\n",
    "1. Download training and test set as .csv files\n",
    "2. Load the datasets as pandas dataframes and combine into a single dataset\n",
    "3. Understand basic information of variables\n",
    "    - what variable represents\n",
    "    - meaning of values\n",
    "    - numerical summary\n",
    "    - graphical distribution of values\n",
    "4. Cleaning the data: handling missing data\n",
    "    - discard all passengers with incomplete information\n",
    "        - tiny fraction of values: impute with mean or median \n",
    "        - most of values are missing: discard\n",
    "    - how to deal with outliers\n",
    "5. Create a column to indicate whether a passenger has a rare title (Dr, MMe)"
   ]
  },
  {
   "cell_type": "markdown",
   "metadata": {},
   "source": [
    "__Stage 2__\n",
    "\n",
    "1. Data Preparation\n",
    "    - Convert sex into binary factors: 0 and 1\n",
    "    - Replace Embarked with Embark_S, Embark_C, and Embark_Q: to indicate the place where the passenger boarded the ship (i.e. Embark_S = 1, and Embark_C = 0, Embark_Q = 0) Use pandas.get_dummies() to help you\n",
    "    - Feature scaling: scale each variable so that it has zero mean and unit variance (sklearn.preprocessing.StandardScaler() can help you with this)\n",
    "    - Split the data into training set "
   ]
  },
  {
   "cell_type": "code",
   "execution_count": null,
   "metadata": {},
   "outputs": [],
   "source": []
  }
 ],
 "metadata": {
  "kernelspec": {
   "display_name": "Python 3",
   "language": "python",
   "name": "python3"
  },
  "language_info": {
   "codemirror_mode": {
    "name": "ipython",
    "version": 3
   },
   "file_extension": ".py",
   "mimetype": "text/x-python",
   "name": "python",
   "nbconvert_exporter": "python",
   "pygments_lexer": "ipython3",
   "version": "3.5.2"
  }
 },
 "nbformat": 4,
 "nbformat_minor": 2
}
