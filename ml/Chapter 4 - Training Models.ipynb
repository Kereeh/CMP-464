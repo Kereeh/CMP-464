{
 "cells": [
  {
   "cell_type": "markdown",
   "metadata": {},
   "source": [
    "So far we have treated ML models and their algorithms mostly like blackboxes. A lot can be done without knowing anything under the hood. We optimized a regression system, improved a digit image classifier, and built a spam classifier, without knowing how they actually work.\n",
    "\n",
    "Linear Regression: two ways of training:\n",
    "1. Using a direct 'closed-form' equation that directly computes the model parameters that best fit the model to the training set (i.e. model paramteres that minimize the cost function over the trainin set)\n",
    "2. Using an iterative optimization approach, Gradient Descent, that gradually tweaks the model parameters to minimize the cost function over the training set, eventually converging to the same set of parameters as the first method. (Part II: Batch GD, Mini-batch GD, and Stochastic GD)\n",
    "\n",
    "Polynomial Regression: how to detect whether we are overfitting the training data, using learning curves, and looking at regularization techniques that can reduce the risk of overfitting the training set. "
   ]
  },
  {
   "cell_type": "markdown",
   "metadata": {},
   "source": [
    "Linear Regression\n",
    "\n",
    "A linear model makes a prediction by computing a weighted sum of the input features, plus a constant called /bias term/ (/intercept term/)\n",
    "> y-hat = theta0 + theta1x1 + theta2x2 + ... + thetanxn\n",
    "    - y-hat is the predicted value\n",
    "    - n is the number of features\n",
    "    - xi is the ith feature value\n",
    "    - thetaj is the jth model parameter (theta0 is the bias term)\n",
    "> y-hat = htheta(x) = theta^T*x\n",
    "    - theta is the model's parameter vectorm with theta0 bias term\n",
    "    - theta^T is the transpose of theta\n",
    "    - x is the instance's feature vector\n",
    "    - theta^T*x is the dot product of theta^T and x\n",
    "    - htheta is the hypothesis function using model parameters theta\n",
    "    \n"
   ]
  }
 ],
 "metadata": {
  "kernelspec": {
   "display_name": "Python 3",
   "language": "python",
   "name": "python3"
  },
  "language_info": {
   "codemirror_mode": {
    "name": "ipython",
    "version": 3
   },
   "file_extension": ".py",
   "mimetype": "text/x-python",
   "name": "python",
   "nbconvert_exporter": "python",
   "pygments_lexer": "ipython3",
   "version": "3.5.2"
  }
 },
 "nbformat": 4,
 "nbformat_minor": 2
}
