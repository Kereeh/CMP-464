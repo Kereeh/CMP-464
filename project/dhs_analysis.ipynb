{
 "cells": [
  {
   "cell_type": "code",
   "execution_count": 1,
   "metadata": {},
   "outputs": [],
   "source": [
    "import numpy as np\n",
    "import pandas as pd\n",
    "import matplotlib.pyplot as plt\n",
    "\n",
    "%matplotlib inline"
   ]
  },
  {
   "cell_type": "code",
   "execution_count": 2,
   "metadata": {},
   "outputs": [
    {
     "name": "stdout",
     "output_type": "stream",
     "text": [
      "  Date of Census  Total Adults in Shelter  Total Children in Shelter  \\\n",
      "0     08/21/2013                    28359                      21314   \n",
      "1     08/22/2013                    28366                      21324   \n",
      "2     08/23/2013                    28257                      21291   \n",
      "3     08/24/2013                    28274                      21343   \n",
      "4     08/25/2013                    28458                      21400   \n",
      "\n",
      "   Total Individuals in Shelter  Single Adult Men in Shelter  \\\n",
      "0                         49673                         7231   \n",
      "1                         49690                         7201   \n",
      "2                         49548                         7149   \n",
      "3                         49617                         7110   \n",
      "4                         49858                         7230   \n",
      "\n",
      "   Single Adult Women in Shelter  Total Single Adults in Shelter  \\\n",
      "0                           2710                            9941   \n",
      "1                           2716                            9917   \n",
      "2                           2671                            9820   \n",
      "3                           2690                            9800   \n",
      "4                           2704                            9934   \n",
      "\n",
      "   Families with Children in Shelter  \\\n",
      "0                              10261   \n",
      "1                              10274   \n",
      "2                              10266   \n",
      "3                              10291   \n",
      "4                              10324   \n",
      "\n",
      "   Adults in Families with Children in Shelter  \\\n",
      "0                                        14607   \n",
      "1                                        14622   \n",
      "2                                        14611   \n",
      "3                                        14650   \n",
      "4                                        14694   \n",
      "\n",
      "   Children in Families with Children in Shelter  \\\n",
      "0                                          21314   \n",
      "1                                          21324   \n",
      "2                                          21291   \n",
      "3                                          21343   \n",
      "4                                          21400   \n",
      "\n",
      "   Total Individuals in Families with Children in Shelter   \\\n",
      "0                                              35921         \n",
      "1                                              35946         \n",
      "2                                              35902         \n",
      "3                                              35993         \n",
      "4                                              36094         \n",
      "\n",
      "   Adult Families in Shelter  Individuals in Adult Families in Shelter  \n",
      "0                       1796                                      3811  \n",
      "1                       1803                                      3827  \n",
      "2                       1802                                      3826  \n",
      "3                       1801                                      3824  \n",
      "4                       1804                                      3830  \n"
     ]
    }
   ],
   "source": [
    "df = pd.read_csv('dhs_daily_report.csv')\n",
    "print(df.head())"
   ]
  }
 ],
 "metadata": {
  "kernelspec": {
   "display_name": "Python 3",
   "language": "python",
   "name": "python3"
  },
  "language_info": {
   "codemirror_mode": {
    "name": "ipython",
    "version": 3
   },
   "file_extension": ".py",
   "mimetype": "text/x-python",
   "name": "python",
   "nbconvert_exporter": "python",
   "pygments_lexer": "ipython3",
   "version": "3.5.2"
  }
 },
 "nbformat": 4,
 "nbformat_minor": 2
}
