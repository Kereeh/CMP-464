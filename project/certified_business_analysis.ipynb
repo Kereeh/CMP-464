{
 "cells": [
  {
   "cell_type": "code",
   "execution_count": 1,
   "metadata": {},
   "outputs": [],
   "source": [
    "import numpy as np\n",
    "import pandas as pd\n",
    "import matplotlib.pyplot as plt\n",
    "\n",
    "%matplotlib inline"
   ]
  },
  {
   "cell_type": "code",
   "execution_count": 2,
   "metadata": {},
   "outputs": [
    {
     "name": "stdout",
     "output_type": "stream",
     "text": [
      "                  Vendor_Formal_Name  \\\n",
      "0  1 Call Building Maintenance Corp.   \n",
      "1                 1 Empire Group LLC   \n",
      "2              1-800 Mr. Rubbish Inc   \n",
      "3        1109 Nostrand Avenue Bakery   \n",
      "4            117 Liberty Street, LLC   \n",
      "\n",
      "                                       Vendor_DBA     Contact_Name  \\\n",
      "0                                             NaN   Lorris Alleyne   \n",
      "1                                             NaN     John Burnett   \n",
      "2                                             NaN      Abeir Saleh   \n",
      "3                                  Allan's Bakery    Claudia Smith   \n",
      "4  Polonia Development & Preservation Services Co  Gerardo Sanchez   \n",
      "\n",
      "     telephone           fax                            Email certification  \\\n",
      "0   5163517765    5163517765         lorrisalleyne1@gmail.com           MBE   \n",
      "1   3472010906    9999999999            john@1empiregroup.com           MBE   \n",
      "2   7187683700  718-833-2224          abbys@1800mrrubbish.com           WBE   \n",
      "3  19178641517           NaN           ralph@allansbakery.com       MBE,WBE   \n",
      "4   7187287939    7187287750  gsanchez@poloniarestoration.com           MBE   \n",
      "\n",
      "       Cert_Renewal_Date     Ethnicity                 Address1  \\\n",
      "0             10/31/2018         BLACK         946 Atlantic Ave   \n",
      "1              6/29/2023         ASIAN          655 14th Street   \n",
      "2                    NaN  NON-MINORITY         1033 86th Street   \n",
      "3  05/30/2021;05/30/2021         BLACK     1109 Nostrand Avenue   \n",
      "4              6/29/2019      HISPANIC  45-02 Ditmars Boulevard   \n",
      "\n",
      "                        ...                       Job_Exp3_Name_of_Client  \\\n",
      "0                       ...                          Layland Baptiste LLC   \n",
      "1                       ...                                           NaN   \n",
      "2                       ...                            Heiley Development   \n",
      "3                       ...                                           NaN   \n",
      "4                       ...                           Columbia University   \n",
      "\n",
      "  Job_Exp3_Value_of_Contract Job_Exp3_Percent_Self_Performed  DATEOFJOB3  \\\n",
      "0                   200000.0                            50.0  09/17/2015   \n",
      "1                        0.0                             NaN         NaN   \n",
      "2                    65000.0                           100.0  01/01/2015   \n",
      "3                        0.0                             NaN         NaN   \n",
      "4                   919878.0                             NaN  02/01/2011   \n",
      "\n",
      "                                         EXPERIENCE3 Job_Exp4_Name_of_Client  \\\n",
      "0      Janitorial services and building maintenance                      NaN   \n",
      "1                                                NaN                     NaN   \n",
      "2  Performed packer and container service & demol...   Pizzarotti IBC Groups   \n",
      "3                                                NaN                     NaN   \n",
      "4  Exterior Historic Facade Restoration & Relocat...                     NaN   \n",
      "\n",
      "  Job_Exp4_Value_of_Contract Job_Exp4_Percent_Self_Performed  DATEOFJOB4  \\\n",
      "0                        0.0                             NaN         NaN   \n",
      "1                        0.0                             NaN         NaN   \n",
      "2                   540000.0                            33.0  01/01/2015   \n",
      "3                        0.0                             NaN         NaN   \n",
      "4                        0.0                             NaN         NaN   \n",
      "\n",
      "                                      EXPERIENCE4  \n",
      "0                                             NaN  \n",
      "1                                             NaN  \n",
      "2  Demolition excavation and concrete replacement  \n",
      "3                                             NaN  \n",
      "4                                             NaN  \n",
      "\n",
      "[5 rows x 46 columns]\n"
     ]
    }
   ],
   "source": [
    "df = pd.read_csv('certified_business_list.csv')\n",
    "print(df.head())"
   ]
  }
 ],
 "metadata": {
  "kernelspec": {
   "display_name": "Python 3",
   "language": "python",
   "name": "python3"
  },
  "language_info": {
   "codemirror_mode": {
    "name": "ipython",
    "version": 3
   },
   "file_extension": ".py",
   "mimetype": "text/x-python",
   "name": "python",
   "nbconvert_exporter": "python",
   "pygments_lexer": "ipython3",
   "version": "3.5.2"
  }
 },
 "nbformat": 4,
 "nbformat_minor": 2
}
